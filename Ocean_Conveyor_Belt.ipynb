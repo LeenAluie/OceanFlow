{
 "cells": [
  {
   "cell_type": "markdown",
   "metadata": {},
   "source": [
    "## Visualizing the temperature and energy transport in the ocean, where major mixing happens along the global ocean conveyor belt. The vizualization portrays the flow over the entire year of 2019, and spans the reigion with coordinates of [-20, 80] degrees North and [-80, 20] degrees East. "
   ]
  },
  {
   "cell_type": "code",
   "execution_count": null,
   "metadata": {},
   "outputs": [],
   "source": [
    "import matplotlib.pyplot as plt\n",
    "from matplotlib.colors import LinearSegmentedColormap\n",
    "from matplotlib.animation import FuncAnimation\n",
    "import cartopy.crs as ccrs\n",
    "import cartopy.feature as cfeature\n",
    "import numpy as np\n",
    "import xarray as xr\n",
    "\n",
    "from IPython.core.interactiveshell import InteractiveShell\n",
    "InteractiveShell.ast_node_interactivity = \"all\"\n",
    "%matplotlib inline"
   ]
  },
  {
   "cell_type": "code",
   "execution_count": null,
   "metadata": {},
   "outputs": [],
   "source": [
    "# Importing the data needed for the visualizations. Data was downloaded from CMEMS website in NetCDF format.\n",
    "\n",
    "filepath = 'YearlyData/'\n",
    "\n",
    "# Two datasets were used. One near the surface, and one that at a 110m depth.\n",
    "# Uncomment line for the data that you want to visualize, as appropriate. Otherwise, use different variable names\n",
    "# for each set.\n",
    "\n",
    "data = xr.open_mfdataset(filepath+'*_surface', combine='by_coords')\n",
    "# data = xr.open_mfdataset(filepath+'*_110m', combine='by_coords')\n"
   ]
  },
  {
   "cell_type": "code",
   "execution_count": null,
   "metadata": {},
   "outputs": [],
   "source": [
    "# Data contains depth, time, spatial coordinates, eastward and northward velocity, and sea water potential temperature.\n",
    "# Units are m, sec, degrees N, degrees E, m/s, and degrees Celcius, respectively.\n",
    "\n",
    "depth = data.depth\n",
    "time = data.time\n",
    "lons, lats = data.longitude, data.latitude\n",
    "u, v = data.uo, data.vo\n",
    "temp = data.thetao"
   ]
  },
  {
   "cell_type": "code",
   "execution_count": null,
   "metadata": {},
   "outputs": [],
   "source": [
    "# Create numpy arrays of the data.\n",
    "\n",
    "d = depth.values\n",
    "lat, lon = lats.values, lons.values\n",
    "x2, y2 = np.meshgrid(lon, lat)\n",
    "vx, vy = u.values, v.values\n",
    "T = temp.values\n",
    "t = time.values\n",
    "\n",
    "# Data has shape of (time, depth, latitude, longitude). \n",
    "\n",
    "T.shape"
   ]
  },
  {
   "cell_type": "code",
   "execution_count": null,
   "metadata": {},
   "outputs": [],
   "source": [
    "# Define special colormap for Energy transport visualization for better clarity.\n",
    "\n",
    "color = ['white', 'red','red']\n",
    "nodes = [0.0, 0.1, 1.0]\n",
    "mycmap = LinearSegmentedColormap.from_list(\"mycmap\", list(zip(nodes, color)))"
   ]
  },
  {
   "cell_type": "code",
   "execution_count": null,
   "metadata": {},
   "outputs": [],
   "source": [
    "# Define figure size and subplot properties and axes projection to be used for plotting the map. \n",
    "\n",
    "fig, (ax1, ax2) = plt.subplots(2, 1, figsize=(5,8) ,sharex='all', sharey='all',\n",
    "                            subplot_kw={'projection': ccrs.PlateCarree()})"
   ]
  },
  {
   "cell_type": "code",
   "execution_count": null,
   "metadata": {},
   "outputs": [],
   "source": [
    "# Defining the animation loop function, which contains main plotting commands.\n",
    "\n",
    "def update(frame):\n",
    "\n",
    "    fig, (ax1, ax2) = plt.subplots(2, 1, num=1, figsize=(5,8) ,sharex='all', sharey='all',\n",
    "                                subplot_kw={'projection': ccrs.PlateCarree()}, clear=True)\n",
    "    plt.subplots_adjust(hspace=0.05)\n",
    "\n",
    "    # Add the coastlines on map.\n",
    "    ax1.add_feature(cfeature.LAND, edgecolor='black',facecolor='black')\n",
    "    ax2.add_feature(cfeature.LAND, edgecolor='black',facecolor='black')\n",
    "\n",
    "    # Temperature\n",
    "    T0 = T[frame]\n",
    "    T0 = T0.reshape((lats.shape[0], lons.shape[0]))\n",
    "    \n",
    "    # Velocity\n",
    "    vx0, vy0 = vx[frame], vy[frame]\n",
    "    vx0 = vx0.reshape((lats.shape[0], lons.shape[0]))\n",
    "    vy0 = vy0.reshape((lats.shape[0], lons.shape[0]))\n",
    "\n",
    "    # Calculate Kinetic Energy per unit mass, which we will use to visualize energy transport in the ocean.\n",
    "    KE = 0.5*(vx0**2 + vy0**2)\n",
    "\n",
    "    # Plot the temperature data.\n",
    "    Tcm = ax1.pcolormesh(lon, lat, T0, cmap='jet', vmin=-3, vmax=32, transform=ccrs.PlateCarree())\n",
    "    Tcbar = fig.colorbar(Tcm, ax=ax1, orientation='vertical', label='T ($^\\circ$C)')\n",
    "\n",
    "    # Plot the KE data.\n",
    "    Ecm = ax2.pcolormesh(lon, lat, KE, cmap=mycmap, vmin=0, vmax=5, transform=ccrs.PlateCarree())\n",
    "    Ecbar = fig.colorbar(Ecm, ax=ax2, ticks=[0, 5], orientation='vertical', label='KE per unit mass ($m^2/s^2$)')\n",
    "\n",
    "    ax1.set_title(str(t[frame])[0:10])\n",
    "\n",
    "    ax1.set_xlim([lon.min(), lon.max()])\n",
    "    ax1.set_ylim([lat.min(), lat.max()])\n",
    "\n",
    "    ax2.set_xticks(range(int(lon.min()), int(lon.max()), 15))\n",
    "    ax1.set_yticks(range(int(lat.min()), int(lat.max()), 15))\n",
    "    ax2.set_yticks(range(int(lat.min()), int(lat.max()), 15))\n",
    "\n",
    "plt.show()\n"
   ]
  },
  {
   "cell_type": "code",
   "execution_count": null,
   "metadata": {},
   "outputs": [],
   "source": [
    "# Execute the animation loop function; save the animation as mp4 at 15fps and resolution of 300dpi \n",
    "\n",
    "anim = FuncAnimation(fig, update, frames=np.arange(0,len(T)), repeat=False)\n",
    "anim.save('2019_surface.mp4', writer='ffmpeg', dpi=300, fps=15)"
   ]
  },
  {
   "cell_type": "code",
   "execution_count": 50,
   "metadata": {
    "scrolled": true
   },
   "outputs": [
    {
     "data": {
      "text/markdown": [
       "## $\\hspace{50pt}$ Depth = 0.5 m $\\hspace{120pt}$ Depth = 110 m"
      ]
     },
     "metadata": {},
     "output_type": "display_data"
    },
    {
     "data": {
      "text/html": [
       "<table><tr><td><video controls src=2019_surface.mp4 width=500 allowfullscreen></td><td><video controls src=2019_110m.mp4 width=500 allowfullscreen></td></tr></table>"
      ],
      "text/plain": [
       "<IPython.core.display.HTML object>"
      ]
     },
     "metadata": {},
     "output_type": "display_data"
    }
   ],
   "source": [
    "# This is how the output should eventually look like.\n",
    "\n",
    "from IPython.display import HTML, display, display_markdown\n",
    "\n",
    "display_markdown('## $\\hspace{50pt}$ Depth = 0.5 m $\\hspace{120pt}$ Depth = 110 m', raw=True)\n",
    "display(HTML(\"<table><tr><td><video controls src=2019_surface.mp4 width=500 allowfullscreen></td><td><video controls src=2019_110m.mp4 width=500 allowfullscreen></td></tr></table>\"))\n",
    "\n"
   ]
  },
  {
   "cell_type": "code",
   "execution_count": null,
   "metadata": {},
   "outputs": [],
   "source": [
    "# from IPython.display import HTML, display, display_markdown\n",
    "# from base64 import b64encode\n",
    "\n",
    "# video_surface = open(\"2019_surface.mp4\", \"rb\").read()\n",
    "# video_110m = open(\"2019_110m.mp4\", \"rb\").read()\n",
    "\n",
    "# video_encoded1 = b64encode(video_surface).decode('ascii')\n",
    "# video_encoded2 = b64encode(video_110m).decode('ascii')\n",
    "\n",
    "# video_tag1 = '<video controls alt=\"test\" src=\"data:video/x-m4v;base64,{0}\" width=\"600\" height=\"600 allowfullscreen\">'.format(video_encoded1)\n",
    "# video_tag2 = '<video controls alt=\"test\" src=\"data:video/x-m4v;base64,{0}\" width=\"600\" height=\"600 allowfullscreen\">'.format(video_encoded2)\n",
    "\n",
    "# display_markdown('## Depth = 0.5 m', raw=True)\n",
    "# display(HTML(data=video_tag1))\n",
    "\n",
    "# # display_markdown('## Depth = 110 m', raw=True)\n",
    "# # display(HTML(data=video_tag2))"
   ]
  },
  {
   "cell_type": "code",
   "execution_count": 1,
   "metadata": {},
   "outputs": [
    {
     "data": {
      "text/html": [
       "<div align=\"middle\">\n",
       "<video width=\"80%\" controls>\n",
       "      <source src=\"2019_surface.mp4\" type=\"video/mp4\">\n",
       "</video></div>\n"
      ],
      "text/plain": [
       "<IPython.core.display.HTML object>"
      ]
     },
     "metadata": {},
     "output_type": "display_data"
    }
   ],
   "source": [
    "%%HTML\n",
    "<div align=\"middle\">\n",
    "<video width=\"80%\" controls>\n",
    "      <source src=\"2019_surface.mp4\" type=\"video/mp4\">\n",
    "</video></div>"
   ]
  },
  {
   "cell_type": "code",
   "execution_count": null,
   "metadata": {},
   "outputs": [],
   "source": []
  }
 ],
 "metadata": {
  "CodeCell": {
   "cm_config": {
    "lineWrapping": true
   }
  },
  "celltoolbar": "Raw Cell Format",
  "kernelspec": {
   "display_name": "Python 3",
   "language": "python",
   "name": "python3"
  },
  "language_info": {
   "codemirror_mode": {
    "name": "ipython",
    "version": 3
   },
   "file_extension": ".py",
   "mimetype": "text/x-python",
   "name": "python",
   "nbconvert_exporter": "python",
   "pygments_lexer": "ipython3",
   "version": "3.7.7"
  }
 },
 "nbformat": 4,
 "nbformat_minor": 4
}
